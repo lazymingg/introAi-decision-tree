{
 "cells": [
  {
   "cell_type": "markdown",
   "id": "222971a5",
   "metadata": {},
   "source": [
    "# 📋 Jupyter Notebook Quick Shortcuts (Markdown cell)\n",
    "# Press 'H' in command mode to view all shortcuts\n",
    "# \n",
    "# **Command Mode** (press Esc to enter):\n",
    "# - A: Insert cell above\n",
    "# - B: Insert cell below\n",
    "# - D D: Delete current cell\n",
    "# - Z: Undo delete\n",
    "# - M: Change cell to Markdown\n",
    "# - Y: Change cell to Code\n",
    "# - Shift + Enter: Run cell and go to next\n",
    "# - Ctrl + Enter: Run cell (stay on it)\n",
    "#\n",
    "# **Edit Mode** (press Enter to enter):\n",
    "# - Tab: Auto-complete\n",
    "# - Shift + Tab: Show function hint\n",
    "# - Ctrl + /: Comment/uncomment line\n"
   ]
  },
  {
   "cell_type": "code",
   "execution_count": 13,
   "id": "1a766a9c",
   "metadata": {},
   "outputs": [
    {
     "data": {
      "text/plain": [
       "age         0\n",
       "sex         0\n",
       "cp          0\n",
       "trestbps    0\n",
       "chol        0\n",
       "fbs         0\n",
       "restecg     0\n",
       "thalach     0\n",
       "exang       0\n",
       "oldpeak     0\n",
       "slope       0\n",
       "ca          0\n",
       "thal        0\n",
       "target      0\n",
       "dtype: int64"
      ]
     },
     "execution_count": 13,
     "metadata": {},
     "output_type": "execute_result"
    }
   ],
   "source": [
    "import pandas as pd\n",
    "\n",
    "column_names = [\n",
    "    \"age\",         # tuổi\n",
    "    \"sex\",         # giới tính (1 = nam, 0 = nữ)\n",
    "    \"cp\",          # loại đau ngực\n",
    "    \"trestbps\",    # huyết áp khi nghỉ\n",
    "    \"chol\",        # cholesterol\n",
    "    \"fbs\",         # đường huyết lúc đói > 120 mg/dl (1/0)\n",
    "    \"restecg\",     # kết quả ECG lúc nghỉ\n",
    "    \"thalach\",     # nhịp tim tối đa đạt được\n",
    "    \"exang\",       # đau thắt ngực do gắng sức (1/0)\n",
    "    \"oldpeak\",     # ST chênh so với nghỉ\n",
    "    \"slope\",       # độ dốc đoạn ST\n",
    "    \"ca\",          # số lượng mạch chính được nhuộm màu (0–3)\n",
    "    \"thal\",        # kết quả thallium test (3 = bình thường, 6 = lỗi cố định, 7 = lỗi có thể phục hồi)\n",
    "    \"target\"       # nhãn kết quả (0 = không bệnh, 1-4 = có bệnh)\n",
    "]\n",
    "\n",
    "\n",
    "df = pd.read_csv(\"Data/heart+disease/processed.cleveland.data\", names=column_names, na_values='?')\n",
    "# in dữ liệu bị thiếu ban đầu\n",
    "df.isna().sum()\n",
    "# điền dữ liệu bị thiếu \n",
    "df[\"ca\"] = df[\"ca\"].fillna(df[\"ca\"].median())\n",
    "df[\"thal\"] = df[\"thal\"].fillna(df[\"thal\"].mode()[0]) \n",
    "# sau khi điền dữ liệu bị thiếu\n",
    "df.isna().sum()\n",
    "\n"
   ]
  },
  {
   "cell_type": "code",
   "execution_count": 16,
   "id": "9966c2b4",
   "metadata": {},
   "outputs": [],
   "source": [
    "# drop bỏ cái cột target\n",
    "X = df.drop(\"target\", axis=1)\n",
    "# bảng mỗi cột target\n",
    "y = df[\"target\"]\n",
    "\n",
    "\n",
    "\n",
    "\n",
    "from sklearn.model_selection import train_test_split\n",
    "\n",
    "split_ratios = [0.4, 0.6, 0.8, 0.9]\n",
    "datasets = {}\n",
    "\n",
    "for ratio in split_ratios:\n",
    "    X_train, X_test, y_train, y_test = train_test_split(\n",
    "        X, y,\n",
    "        test_size=1-ratio,\n",
    "        stratify=y,\n",
    "        random_state=42\n",
    "    )\n",
    "    # lưu dữ liệu vào data set\n",
    "    # ví dụ  0.4_0.6 là tỉ lệ 40% train và 60% test\n",
    "    key = f\"{int(ratio * 100)}_{int((1 - ratio) * 100)}\"\n",
    "    datasets[f\"feature_train_{key}\"] = X_train\n",
    "    datasets[f\"label_train_{key}\"] = y_train\n",
    "    datasets[f\"feature_test_{key}\"] = X_test\n",
    "    datasets[f\"label_test_{key}\"] = y_test\n",
    "\n",
    "#lưu vào file csv\n",
    "# for key, value in datasets.items():\n",
    "#     value.to_csv(f\"{key}.csv\", index=False)\n"
   ]
  },
  {
   "cell_type": "code",
   "execution_count": null,
   "id": "4fdeda26",
   "metadata": {},
   "outputs": [],
   "source": [
    "import matplotlib.pyplot as plt\n",
    "import seaborn as sns\n",
    "\n",
    "def plot_distribution(y, title):\n",
    "    sns.countplot(x=y)\n",
    "    plt.title(title)\n",
    "    plt.xlabel(\"Target\")\n",
    "    plt.ylabel(\"Count\")\n",
    "    plt.show()\n",
    "\n",
    "\n",
    "# Vẽ biểu đồ phân phối nhãn cho toàn bộ dữ liệu gốc\n",
    "plot_distribution(y, \"Full Dataset\")\n",
    "\n",
    "# Vẽ cho từng tập train/test\n",
    "for ratio in split_ratios:\n",
    "    key = f\"{int(ratio*100)}_{int((1-ratio)*100)}\"\n",
    "    plot_distribution(datasets[f\"label_train_{key}\"], f\"Train {key}\")\n",
    "    plot_distribution(datasets[f\"label_test_{key}\"], f\"Test {key}\")\n"
   ]
  }
 ],
 "metadata": {
  "kernelspec": {
   "display_name": "venv",
   "language": "python",
   "name": "python3"
  },
  "language_info": {
   "codemirror_mode": {
    "name": "ipython",
    "version": 3
   },
   "file_extension": ".py",
   "mimetype": "text/x-python",
   "name": "python",
   "nbconvert_exporter": "python",
   "pygments_lexer": "ipython3",
   "version": "3.11.9"
  }
 },
 "nbformat": 4,
 "nbformat_minor": 5
}
