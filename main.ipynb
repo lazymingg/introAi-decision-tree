{
 "cells": [
  {
   "cell_type": "markdown",
   "id": "222971a5",
   "metadata": {},
   "source": [
    "# 📋 Jupyter Notebook Quick Shortcuts (Markdown cell)\n",
    "# Press 'H' in command mode to view all shortcuts\n",
    "# \n",
    "# **Command Mode** (press Esc to enter):\n",
    "# - A: Insert cell above\n",
    "# - B: Insert cell below\n",
    "# - D D: Delete current cell\n",
    "# - Z: Undo delete\n",
    "# - M: Change cell to Markdown\n",
    "# - Y: Change cell to Code\n",
    "# - Shift + Enter: Run cell and go to next\n",
    "# - Ctrl + Enter: Run cell (stay on it)\n",
    "#\n",
    "# **Edit Mode** (press Enter to enter):\n",
    "# - Tab: Auto-complete\n",
    "# - Shift + Tab: Show function hint\n",
    "# - Ctrl + /: Comment/uncomment line\n"
   ]
  }
 ],
 "metadata": {
  "kernelspec": {
   "display_name": "venv",
   "language": "python",
   "name": "python3"
  },
  "language_info": {
   "codemirror_mode": {
    "name": "ipython",
    "version": 3
   },
   "file_extension": ".py",
   "mimetype": "text/x-python",
   "name": "python",
   "nbconvert_exporter": "python",
   "pygments_lexer": "ipython3",
   "version": "3.11.9"
  }
 },
 "nbformat": 4,
 "nbformat_minor": 5
}
